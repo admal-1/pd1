{
 "cells": [
  {
   "cell_type": "code",
   "execution_count": null,
   "id": "6bd88389-8a71-4143-a5c2-3204890af14b",
   "metadata": {},
   "outputs": [],
   "source": [
    "%%file app.py\n",
    "from flask import Flask, jsonify, request\n",
    "\n",
    "app = Flask(__name__)\n",
    "\n",
    "@app.route('/')\n",
    "def home():\n",
    "    return (\"Witaj w moim API!\")\n",
    "    \n",
    "@app.route(\"/mojastrona\")\n",
    "def mojastrona():\n",
    "    return (\"To jest moja strona!\")\n",
    "\n",
    "@app.route(\"/hello\")\n",
    "def hello():\n",
    "    name = request.args.get('name')\n",
    "    if name:\n",
    "        return f\"Hello {name}!\"\n",
    "    return \"Hello!\"\n",
    "    \n",
    "@app.route(\"/api/v1.0/predict\")\n",
    "def predict():\n",
    "    num1 = float(request.args.get('num1'))\n",
    "    num2 = float(request.args.get('num2'))\n",
    "    if num1+num2>5.8:\n",
    "        return \"1\"\n",
    "    return \"0\"\n",
    "\n",
    "if __name__ == '__main__':\n",
    "    app.run(host='127.0.0.1', port=5000)"
   ]
  },
  {
   "cell_type": "code",
   "execution_count": null,
   "id": "bf967242-ccd5-465f-85a9-ea539feb0651",
   "metadata": {},
   "outputs": [],
   "source": [
    "%%file Dockerfile\n",
    "FROM python:3.11-slim-buster\n",
    "\n",
    "WORKDIR /app\n",
    "\n",
    "COPY requirements.txt requirements.txt\n",
    "\n",
    "RUN pip install -r requirements.txt\n",
    "\n",
    "COPY app.py .\n",
    "\n",
    "ENV FLASK_APP=app\n",
    "\n",
    "EXPOSE 5000\n",
    "CMD [\"flask\", \"run\", \"--host\", \"0.0.0.0\", \"--port\", \"5000\"]"
   ]
  }
 ],
 "metadata": {
  "kernelspec": {
   "display_name": "Python 3 (ipykernel)",
   "language": "python",
   "name": "python3"
  },
  "language_info": {
   "codemirror_mode": {
    "name": "ipython",
    "version": 3
   },
   "file_extension": ".py",
   "mimetype": "text/x-python",
   "name": "python",
   "nbconvert_exporter": "python",
   "pygments_lexer": "ipython3",
   "version": "3.12.7"
  }
 },
 "nbformat": 4,
 "nbformat_minor": 5
}
